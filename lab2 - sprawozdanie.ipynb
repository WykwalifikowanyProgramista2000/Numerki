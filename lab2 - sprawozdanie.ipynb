{
 "cells": [
  {
   "cell_type": "markdown",
   "metadata": {},
   "source": [
    "***Zadanie 1***\n"
   ]
  },
  {
   "cell_type": "code",
   "execution_count": 3,
   "metadata": {},
   "outputs": [
    {
     "name": "stdout",
     "output_type": "stream",
     "text": [
      "[1, 1, 2, 3, 5, 8, 13, 21, 34]\n",
      "9\n"
     ]
    }
   ],
   "source": [
    "def fib(n: int)->list:\n",
    "    vect = [1, 1]\n",
    "    for i in range(n - 2):\n",
    "        vect.append(vect[i] + vect[i + 1])\n",
    "    return vect\n",
    "\n",
    "\n",
    "vect = fib(10\n",
    "          )\n",
    "print(vect)\n",
    "print(len(vect))"
   ]
  },
  {
   "cell_type": "markdown",
   "metadata": {},
   "source": [
    "***Zadanie 2***\n"
   ]
  },
  {
   "cell_type": "code",
   "execution_count": 5,
   "metadata": {},
   "outputs": [
    {
     "name": "stdout",
     "output_type": "stream",
     "text": [
      "[[6. 6. 6. 6.]\n",
      " [6. 6. 6. 6.]\n",
      " [6. 6. 6. 6.]\n",
      " [6. 6. 6. 6.]\n",
      " [6. 6. 6. 6.]\n",
      " [6. 6. 6. 6.]]\n"
     ]
    }
   ],
   "source": [
    "from numpy import zeros\n",
    "from random import randint\n",
    "\n",
    "def customMatrix(m: int, n: int)->list:\n",
    "    tempTab = zeros((m, n))\n",
    "    if m > n:\n",
    "        temp = m\n",
    "    else:\n",
    "        temp = n\n",
    "    for j in range(m):\n",
    "        for i in range(n):\n",
    "            tempTab[j][i] = temp\n",
    "    return tempTab\n",
    "\n",
    "\n",
    "matrix = customMatrix(randint(3, 7), randint(3, 7))\n",
    "print(matrix)"
   ]
  },
  {
   "cell_type": "markdown",
   "metadata": {},
   "source": [
    "***Zadanie 3***\n"
   ]
  },
  {
   "cell_type": "code",
   "execution_count": 6,
   "metadata": {},
   "outputs": [
    {
     "name": "stdout",
     "output_type": "stream",
     "text": [
      "[[1.         0.5        0.33333333 0.25       0.2        0.16666667]\n",
      " [0.5        0.33333333 0.25       0.2        0.16666667 0.14285714]\n",
      " [0.33333333 0.25       0.2        0.16666667 0.14285714 0.125     ]\n",
      " [0.25       0.2        0.16666667 0.14285714 0.125      0.11111111]\n",
      " [0.2        0.16666667 0.14285714 0.125      0.11111111 0.1       ]\n",
      " [0.16666667 0.14285714 0.125      0.11111111 0.1        0.09090909]]\n"
     ]
    }
   ],
   "source": [
    "from scipy.linalg import hilbert\n",
    "from random import randint as rng\n",
    "\n",
    "matrix = hilbert(rng(3, 7))\n",
    "print(matrix)"
   ]
  },
  {
   "cell_type": "markdown",
   "metadata": {},
   "source": [
    "***Zadanie 4***\n"
   ]
  },
  {
   "cell_type": "code",
   "execution_count": 7,
   "metadata": {},
   "outputs": [
    {
     "name": "stdout",
     "output_type": "stream",
     "text": [
      "[[1 2 3]\n",
      " [4 5 6]\n",
      " [7 8 9]]\n",
      "[[1 0 0]\n",
      " [4 5 0]\n",
      " [7 8 9]]\n",
      "[[1 2 3]\n",
      " [0 5 6]\n",
      " [0 0 9]]\n",
      "[[1 0 0]\n",
      " [0 5 0]\n",
      " [0 0 9]]\n"
     ]
    }
   ],
   "source": [
    "import numpy\n",
    "import scipy\n",
    "\n",
    "matrix = numpy.array([[1, 2, 3], [4, 5, 6], [7, 8, 9]])\n",
    "print(matrix)\n",
    "\n",
    "lo_matrix = numpy.tril(matrix, 0)\n",
    "print(lo_matrix)\n",
    "\n",
    "up_matrix = numpy.triu(matrix, 0)\n",
    "print(up_matrix)\n",
    "\n",
    "def myDiag(m: list)->list:\n",
    "    return numpy.tril(numpy.triu(m))\n",
    "\n",
    "di_matrix = myDiag(matrix)\n",
    "print(di_matrix)"
   ]
  },
  {
   "cell_type": "markdown",
   "metadata": {},
   "source": [
    "***Zadanie 5***"
   ]
  },
  {
   "cell_type": "code",
   "execution_count": 8,
   "metadata": {},
   "outputs": [
    {
     "name": "stdout",
     "output_type": "stream",
     "text": [
      "[[3 5 6]\n",
      " [5 5 5]\n",
      " [5 3 6]]\n",
      "max:  6\n",
      "min:  3\n",
      "mean:  4.777777777777778\n"
     ]
    }
   ],
   "source": [
    "import numpy\n",
    "\n",
    "matrix = numpy.random.randint(3, 7, size = (3, 3))\n",
    "print(matrix)\n",
    "\n",
    "print(\"max: \", numpy.amax(matrix))\n",
    "print(\"min: \", numpy.amin(matrix))\n",
    "print(\"mean: \", numpy.mean(matrix))"
   ]
  },
  {
   "cell_type": "markdown",
   "metadata": {},
   "source": [
    "***Zadanie 6***"
   ]
  },
  {
   "cell_type": "code",
   "execution_count": null,
   "metadata": {},
   "outputs": [],
   "source": []
  }
 ],
 "metadata": {
  "kernelspec": {
   "display_name": "Python 3",
   "language": "python",
   "name": "python3"
  },
  "language_info": {
   "codemirror_mode": {
    "name": "ipython",
    "version": 3
   },
   "file_extension": ".py",
   "mimetype": "text/x-python",
   "name": "python",
   "nbconvert_exporter": "python",
   "pygments_lexer": "ipython3",
   "version": "3.7.0"
  }
 },
 "nbformat": 4,
 "nbformat_minor": 2
}
