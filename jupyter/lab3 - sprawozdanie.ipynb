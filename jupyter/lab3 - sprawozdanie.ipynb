{
 "cells": [
  {
   "cell_type": "markdown",
   "metadata": {},
   "source": [
    "***Zadanie 1.***"
   ]
  },
  {
   "cell_type": "markdown",
   "metadata": {},
   "source": [
    "***1)*** Powiniśmy otrzymać P = 0.1\n"
   ]
  },
  {
   "cell_type": "markdown",
   "metadata": {},
   "source": [
    "***2)*** Ponieważ operacje wykonywane są w innej kolejności\n"
   ]
  },
  {
   "cell_type": "markdown",
   "metadata": {},
   "source": [
    "***3)*** Błąd niedomiaru, nadmiaru i zaokrąglenia \n"
   ]
  },
  {
   "cell_type": "markdown",
   "metadata": {},
   "source": [
    "***4)*** Bład zachodzi, ponieważ ...\n"
   ]
  },
  {
   "cell_type": "markdown",
   "metadata": {},
   "source": [
    "***5)*** \n"
   ]
  },
  {
   "cell_type": "markdown",
   "metadata": {},
   "source": [
    "***6)*** Można uprościć algorytm po przez zamianę 1/(1/b) na b i wypchnąć obliczenia na dużych liczbach na początek algorytmu"
   ]
  },
  {
   "cell_type": "markdown",
   "metadata": {},
   "source": [
    "***Zadanie 2.***"
   ]
  },
  {
   "cell_type": "code",
   "execution_count": 1,
   "metadata": {},
   "outputs": [
    {
     "name": "stdout",
     "output_type": "stream",
     "text": [
      "[3.14159265 3.14159265 3.14159265 3.14159265 3.14159265 3.14159265\n",
      " 3.14159265 3.14159265 3.14159266 3.14159279 3.14159185 3.14160156\n",
      " 3.14152644 3.14174107 3.14166667]\n"
     ]
    }
   ],
   "source": [
    "import numpy as np\n",
    "from math import pi\n",
    "\n",
    "n = 10\n",
    "\n",
    "def Gp(n: int)->list:\n",
    "    temp = []\n",
    "    for p in range(1, n+1):\n",
    "        temp.append((1/p)*((10**p)*(1+p*np.round(pi, 15)*(10**(-p)))-(10**p)))\n",
    "    return np.array(temp)\n",
    "\n",
    "print(Gp(15))"
   ]
  },
  {
   "cell_type": "markdown",
   "metadata": {},
   "source": [
    "***1)*** Tak"
   ]
  },
  {
   "cell_type": "markdown",
   "metadata": {},
   "source": [
    "***2)***"
   ]
  },
  {
   "cell_type": "code",
   "execution_count": 2,
   "metadata": {},
   "outputs": [
    {
     "data": {
      "image/png": "[encoded data removed]",
      "text/plain": [
       "<Figure size 432x288 with 1 Axes>"
      ]
     },
     "metadata": {
      "needs_background": "light"
     },
     "output_type": "display_data"
    }
   ],
   "source": [
    "import numpy as np\n",
    "import math\n",
    "import matplotlib.pyplot as plt\n",
    "\n",
    "\n",
    "def Gp(n: int)->list:\n",
    "    temp = []\n",
    "    for p in range(1, n+1):\n",
    "        temp.append((1/p)*((10**p)*(1+p*np.round(math.pi, 15)*(10**(-p)))-(10**p)))\n",
    "    return np.array(temp)\n",
    "\n",
    "wyn = Gp(15)\n",
    "#print(wyn, \"XXX\", len(wyn))\n",
    "\n",
    "bez = []\n",
    "wzg = []\n",
    "\n",
    "def fbez(wyn: list)->list:\n",
    "    temp = []\n",
    "    for i in range(len(wyn)):\n",
    "        temp.append(math.fabs(wyn[i] - math.pi))\n",
    "    return list(temp)\n",
    "\n",
    "\n",
    "def fwzg(wyn: list)->list:\n",
    "    temp = []\n",
    "    for i in range(len(wyn)):\n",
    "        temp.append(math.fabs((wyn[i] - math.pi)/math.pi))\n",
    "    return list(temp)\n",
    "\n",
    "\n",
    "bez = fbez(wyn)\n",
    "wzg = fwzg(wyn)\n",
    "\n",
    "n = np.linspace(0, 14, 15)\n",
    "plt.semilogy(n, list(bez))\n",
    "plt.legend(\"bezwzględny\")\n",
    "plt.xlim(left = 0)\n",
    "plt.xlim(right = 15)\n",
    "plt.xlabel(\"n\")\n",
    "plt.ylabel(\"błąd\")\n",
    "plt.semilogy(n, list(wzg))\n",
    "plt.legend(\"względny\")\n",
    "plt.title(\"wykres błędów bezwzględnych i względnych\")\n",
    "plt.show()"
   ]
  },
  {
   "cell_type": "markdown",
   "metadata": {},
   "source": [
    "***3)***"
   ]
  },
  {
   "cell_type": "markdown",
   "metadata": {},
   "source": [
    "***4)***"
   ]
  },
  {
   "cell_type": "markdown",
   "metadata": {},
   "source": [
    "***Zadanie 3.***"
   ]
  },
  {
   "cell_type": "code",
   "execution_count": 3,
   "metadata": {},
   "outputs": [
    {
     "name": "stdout",
     "output_type": "stream",
     "text": [
      "Błędy dla n = 5 to:\n",
      "___Bezwzględny: 1.0016151617923783 \n",
      "___Względny: 0.36847362598902395\n",
      "Błędy dla n = 10 to:\n",
      "___Bezwzględny: 1.0000000273126604 \n",
      "___Względny: 0.36787945121920856\n"
     ]
    }
   ],
   "source": [
    "import math\n",
    "\n",
    "def myE(stop: int)->float:\n",
    "    temp = 0\n",
    "    for n in range(1, stop+1):\n",
    "        temp += 1/math.factorial(n)\n",
    "    return temp\n",
    "\n",
    "bez5 = math.fabs(math.e - myE(5))\n",
    "bez10 = math.fabs(math.e - myE(10))\n",
    "wzg5 = math.fabs((math.e - myE(5))/math.e)\n",
    "wzg10 = math.fabs((math.e - myE(10))/math.e)\n",
    "\n",
    "print(\"Błędy dla n = 5 to:\\n___Bezwzględny:\", bez5, \"\\n___Względny:\", wzg5)\n",
    "print(\"Błędy dla n = 10 to:\\n___Bezwzględny:\", bez10, \"\\n___Względny:\", wzg10)"
   ]
  },
  {
   "cell_type": "markdown",
   "metadata": {},
   "source": [
    "***Zadanie 4.***"
   ]
  },
  {
   "cell_type": "code",
   "execution_count": null,
   "metadata": {},
   "outputs": [],
   "source": []
  }
 ],
 "metadata": {
  "kernelspec": {
   "display_name": "Python 3",
   "language": "python",
   "name": "python3"
  },
  "language_info": {
   "codemirror_mode": {
    "name": "ipython",
    "version": 3
   },
   "file_extension": ".py",
   "mimetype": "text/x-python",
   "name": "python",
   "nbconvert_exporter": "python",
   "pygments_lexer": "ipython3",
   "version": "3.7.0"
  }
 },
 "nbformat": 4,
 "nbformat_minor": 2
}
