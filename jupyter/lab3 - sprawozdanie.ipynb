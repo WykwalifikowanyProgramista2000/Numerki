{
 "cells": [
  {
   "cell_type": "markdown",
   "metadata": {},
   "source": [
    "***Zadanie 1.***"
   ]
  },
  {
   "cell_type": "markdown",
   "metadata": {},
   "source": [
    "***1)*** Powiniśmy otrzymać P = 0.1\n"
   ]
  },
  {
   "cell_type": "markdown",
   "metadata": {},
   "source": [
    "***2)*** Ponieważ operacje wykonywane są w innej kolejności\n"
   ]
  },
  {
   "cell_type": "markdown",
   "metadata": {},
   "source": [
    "***3)*** Błąd niedomiaru, nadmiaru i zaokrąglenia \n"
   ]
  },
  {
   "cell_type": "markdown",
   "metadata": {},
   "source": [
    "***4)*** Bład zachodzi, ponieważ przekraczamy dolną granicę liczb możliwych do zareprezentowania w danej konwencji zapisu liczby zmiennoprzecinkowej\n"
   ]
  },
  {
   "cell_type": "markdown",
   "metadata": {},
   "source": [
    "***5)*** Pierwszy, ponieważ kolejność działań pozwala na odjęcie od siebie dwóch liczb o identycznych wartościach\n"
   ]
  },
  {
   "cell_type": "markdown",
   "metadata": {},
   "source": [
    "***6)*** Można uprościć algorytm po przez zamianę 1/(1/b) na b i wypchnąć obliczenia na dużych liczbach na początek algorytmu"
   ]
  },
  {
   "cell_type": "markdown",
   "metadata": {},
   "source": [
    "***Zadanie 2.***"
   ]
  },
  {
   "cell_type": "code",
   "execution_count": 1,
   "metadata": {},
   "outputs": [
    {
     "name": "stdout",
     "output_type": "stream",
     "text": [
      "[3.14159265 3.14159265 3.14159265 3.14159265 3.14159265 3.14159265\n",
      " 3.14159265 3.14159265 3.14159266 3.14159279 3.14159185 3.14160156\n",
      " 3.14152644 3.14174107 3.14166667]\n"
     ]
    }
   ],
   "source": [
    "import numpy as np\n",
    "from math import pi\n",
    "\n",
    "n = 10\n",
    "\n",
    "def Gp(n: int)->list:\n",
    "    temp = []\n",
    "    for p in range(1, n+1):\n",
    "        temp.append((1/p)*((10**p)*(1+p*np.round(pi, 15)*(10**(-p)))-(10**p)))\n",
    "    return np.array(temp)\n",
    "\n",
    "print(Gp(15))"
   ]
  },
  {
   "cell_type": "markdown",
   "metadata": {},
   "source": [
    "***1)*** Tak"
   ]
  },
  {
   "cell_type": "markdown",
   "metadata": {},
   "source": [
    "***2)***"
   ]
  },
  {
   "cell_type": "code",
   "execution_count": 2,
   "metadata": {},
   "outputs": [
    {
     "data": {
      "image/png": "[encoded data removed]",
      "text/plain": [
       "<Figure size 432x288 with 1 Axes>"
      ]
     },
     "metadata": {
      "needs_background": "light"
     },
     "output_type": "display_data"
    }
   ],
   "source": [
    "import numpy as np\n",
    "import math\n",
    "import matplotlib.pyplot as plt\n",
    "\n",
    "\n",
    "def Gp(n: int)->list:\n",
    "    temp = []\n",
    "    for p in range(1, n+1):\n",
    "        temp.append((1/p)*((10**p)*(1+p*np.round(math.pi, 15)*(10**(-p)))-(10**p)))\n",
    "    return np.array(temp)\n",
    "\n",
    "wyn = Gp(15)\n",
    "#print(wyn, \"XXX\", len(wyn))\n",
    "\n",
    "bez = []\n",
    "wzg = []\n",
    "\n",
    "def fbez(wyn: list)->list:\n",
    "    temp = []\n",
    "    for i in range(len(wyn)):\n",
    "        temp.append(math.fabs(wyn[i] - math.pi))\n",
    "    return list(temp)\n",
    "\n",
    "\n",
    "def fwzg(wyn: list)->list:\n",
    "    temp = []\n",
    "    for i in range(len(wyn)):\n",
    "        temp.append(math.fabs((wyn[i] - math.pi)/math.pi))\n",
    "    return list(temp)\n",
    "\n",
    "\n",
    "bez = fbez(wyn)\n",
    "wzg = fwzg(wyn)\n",
    "\n",
    "n = np.linspace(0, 14, 15)\n",
    "plt.semilogy(n, list(bez))\n",
    "plt.legend(\"bezwzględny\")\n",
    "plt.xlim(left = 0)\n",
    "plt.xlim(right = 15)\n",
    "plt.xlabel(\"n\")\n",
    "plt.ylabel(\"błąd\")\n",
    "plt.semilogy(n, list(wzg))\n",
    "plt.legend(\"względny\")\n",
    "plt.title(\"wykres błędów bezwzględnych i względnych\")\n",
    "plt.show()"
   ]
  },
  {
   "cell_type": "markdown",
   "metadata": {},
   "source": [
    "***3)*** Wraz ze wzrostem wartości n błąd gwałtownie rośnie ponieważ jedne elementy maleją zmierzając do nieskończoności, a inne rosną zmierzając do nieskończoności co w efekcie prowadzi do błędów zaokrągleń i sprawia że algorytm nie jest stabilny numerycznie"
   ]
  },
  {
   "cell_type": "markdown",
   "metadata": {},
   "source": [
    "***4)*** Występują tutaj błędy zaokrągleń związane z logarytmicznym wzrostem i spadkiem wartości elementów równania"
   ]
  },
  {
   "cell_type": "markdown",
   "metadata": {},
   "source": [
    "***Zadanie 3.***"
   ]
  },
  {
   "cell_type": "code",
   "execution_count": 3,
   "metadata": {},
   "outputs": [
    {
     "name": "stdout",
     "output_type": "stream",
     "text": [
      "Błędy dla n = 5 to:\n",
      "___Bezwzględny: 1.0016151617923783 \n",
      "___Względny: 0.36847362598902395\n",
      "Błędy dla n = 10 to:\n",
      "___Bezwzględny: 1.0000000273126604 \n",
      "___Względny: 0.36787945121920856\n"
     ]
    }
   ],
   "source": [
    "import math\n",
    "\n",
    "def myE(stop: int)->float:\n",
    "    temp = 0\n",
    "    for n in range(1, stop+1):\n",
    "        temp += 1/math.factorial(n)\n",
    "    return temp\n",
    "\n",
    "bez5 = math.fabs(math.e - myE(5))\n",
    "bez10 = math.fabs(math.e - myE(10))\n",
    "wzg5 = math.fabs((math.e - myE(5))/math.e)\n",
    "wzg10 = math.fabs((math.e - myE(10))/math.e)\n",
    "\n",
    "print(\"Błędy dla n = 5 to:\\n___Bezwzględny:\", bez5, \"\\n___Względny:\", wzg5)\n",
    "print(\"Błędy dla n = 10 to:\\n___Bezwzględny:\", bez10, \"\\n___Względny:\", wzg10)"
   ]
  },
  {
   "cell_type": "markdown",
   "metadata": {},
   "source": [
    "***Zadanie 4.***"
   ]
  },
  {
   "cell_type": "code",
   "execution_count": 2,
   "metadata": {},
   "outputs": [
    {
     "name": "stdout",
     "output_type": "stream",
     "text": [
      "\n",
      "\n",
      "myE_poewr_x(10, 3): 20.063392857142855\n",
      "math.exp(3) 20.085536923187668\n",
      "Błąd bezwzględny myE_power_x(100, 3): 3.552713678800501e-15\n",
      "Błąd bezwzględny math.exp(3): 3.552713678800501e-15\n"
     ]
    }
   ],
   "source": [
    "import math\n",
    "\n",
    "def myE_power_x(stop: int, x: float)->float:\n",
    "    temp = 0\n",
    "    for i in range(0, stop):\n",
    "        temp += (1/math.factorial(i))*x**i\n",
    "    return temp\n",
    "\n",
    "print(\"\\n\")\n",
    "print(\"myE_poewr_x(10, 3):\", myE_power_x(10, 3))\n",
    "print(\"math.exp(3)\", math.exp(3))\n",
    "print(\"Błąd bezwzględny myE_power_x(100, 3):\", math.fabs(math.e**3 - myE_power_x(100, 3)))\n",
    "print(\"Błąd bezwzględny math.exp(3):\", math.fabs(math.e**3 - math.exp(3)))"
   ]
  },
  {
   "cell_type": "markdown",
   "metadata": {},
   "source": [
    "***1)*** Tak, ponieważ zwiększając dokładność obliczeń jesteśmy w stanie wyznaczyć z dowolną dokładnością dowone istniejące rozwiązanie zadania"
   ]
  },
  {
   "cell_type": "markdown",
   "metadata": {},
   "source": [
    "***2)*** Przykład reprezentuje błąd obcięcia"
   ]
  },
  {
   "cell_type": "markdown",
   "metadata": {},
   "source": [
    "***Zadanie 5)***"
   ]
  },
  {
   "cell_type": "code",
   "execution_count": 5,
   "metadata": {},
   "outputs": [
    {
     "name": "stdout",
     "output_type": "stream",
     "text": [
      "-7.0\n",
      "a) Reprezentowany zakres to: <- 7.5 ;- 0.0625 > + {0} + < 0.0625 ; 7.5 >\n",
      "b) Blad niedomiaru dla 0.001: 0.0615\n",
      "c) Blad nadmiaru dla 8: 0.5\n",
      "d)\n",
      "  Blad zaokraglenia bezwzgledny to: 0.175\n",
      "  Blad zaokraglenia wzgledny to: 0.8749999999999999\n",
      "e)\n",
      "1 bit: < 0.0625 ; 4.0 >\n",
      "2 bit: < 0.0625 ; 6.0 >\n",
      "3 bit: < 0.0625 ; 7.0 >\n",
      "4 bit: < 0.0625 ; 7.5 >\n",
      "5 bit: < 0.0625 ; 7.75 >\n",
      "6 bit: < 0.0625 ; 7.875 >\n",
      "7 bit: < 0.0625 ; 7.9375 >\n",
      "8 bit: < 0.0625 ; 7.96875 >\n"
     ]
    },
    {
     "data": {
      "image/png": "[encoded data removed]",
      "text/plain": [
       "<Figure size 432x288 with 1 Axes>"
      ]
     },
     "metadata": {
      "needs_background": "light"
     },
     "output_type": "display_data"
    }
   ],
   "source": [
    "import math\n",
    "import numpy as np\n",
    "import matplotlib.pyplot as plt\n",
    "\n",
    "def my8bitFloatPoint(num: list)->float:\n",
    "    mantissa = 0\n",
    "    exponent = 0\n",
    "    base = 2\n",
    "    for i in range(1, 5):\n",
    "        mantissa += num[i]/(base**i)\n",
    "    mantissa *= (-1) if num[0] == 1 else 1\n",
    "    for i in range(7, 5, -1):\n",
    "        exponent += num[i]*(2**(i-6))\n",
    "    exponent *= (-1) if num[5] == 1 else 1\n",
    "    return mantissa*(base**exponent)\n",
    "\n",
    "\n",
    "def myFltPt()->list:\n",
    "    temp = [[],[]]\n",
    "    base = 2\n",
    "    for j in range(1, 9):\n",
    "        mantissaMax = 0\n",
    "        mantissaMin = (1/2)\n",
    "        exponent = 3\n",
    "        \n",
    "        for i in range(1, j+1):\n",
    "            mantissaMax += 1/(base**i)\n",
    "\n",
    "        temp[0].append(mantissaMin*(base**(exponent*(-1))))\n",
    "        temp[1].append(mantissaMax*(base**(exponent*(1))))\n",
    "    return temp\n",
    "\n",
    "aList = [1, 1, 1, 1, 0, 0, 1, 1]\n",
    "print(my8bitFloatPoint(aList))\n",
    "\n",
    "# Zakres\n",
    "maxi = [0, 1, 1, 1, 1, 0, 1, 1]\n",
    "mini = [0, 1, 0, 0, 0, 1, 1, 1]\n",
    "num_0_2 = [0, 1, 1, 0, 0, 1, 1, 0]\n",
    "print(\"a) Reprezentowany zakres to: <-\", my8bitFloatPoint(maxi), \";-\", my8bitFloatPoint(mini), \"> + {0} + <\", my8bitFloatPoint(mini), \";\", my8bitFloatPoint(maxi), \">\")\n",
    "print(\"b) Blad niedomiaru dla 0.001:\", math.fabs(0.001 - my8bitFloatPoint(mini)))\n",
    "print(\"c) Blad nadmiaru dla 8:\", math.fabs(8 - my8bitFloatPoint(maxi)))\n",
    "print(\"d)\\n  Blad zaokraglenia bezwzgledny to:\", math.fabs(0.2 - my8bitFloatPoint(num_0_2)))\n",
    "print(\"  Blad zaokraglenia wzgledny to:\", math.fabs((0.2 - my8bitFloatPoint(num_0_2))/0.2))\n",
    "print(\"e)\")\n",
    "fltpt = myFltPt()\n",
    "for i in range(1, 9):\n",
    "    print(i, \"bit: <\", fltpt[0][i-1], \";\", fltpt[1][i-1], \">\")\n",
    "    \n",
    "x = np.linspace(1, 8, 8)\n",
    "plt.plot(x, fltpt[0])\n",
    "plt.plot(x, fltpt[1])\n",
    "plt.title(\"wartosci maksymalne i minimalne\")\n",
    "plt.xlabel(\"bity\")\n",
    "plt.ylabel(\"wartosc\")\n",
    "plt.show()"
   ]
  },
  {
   "cell_type": "markdown",
   "metadata": {},
   "source": [
    "***Zadanie 6)***"
   ]
  },
  {
   "cell_type": "code",
   "execution_count": 5,
   "metadata": {},
   "outputs": [
    {
     "data": {
      "text/plain": [
       "<Figure size 640x480 with 1 Axes>"
      ]
     },
     "metadata": {},
     "output_type": "display_data"
    }
   ],
   "source": [
    "import pylab as pl\n",
    "import numpy as np\n",
    " \n",
    "x = np.linspace(-np.pi/2+0.1, np.pi/2-0.1, 100)\n",
    "y = np.tan(x)\n",
    "pl.plot(x, y)\n",
    "pl.show()"
   ]
  },
  {
   "cell_type": "markdown",
   "metadata": {},
   "source": [
    "Zadanie jest źle uwarunkowane dla wartości {pi/2 (+/-)k*pi}"
   ]
  },
  {
   "cell_type": "markdown",
   "metadata": {},
   "source": [
    "***Zadanie 7)***"
   ]
  },
  {
   "cell_type": "code",
   "execution_count": 3,
   "metadata": {},
   "outputs": [
    {
     "data": {
      "image/png": "[encoded data removed]",
      "text/plain": [
       "<Figure size 432x288 with 1 Axes>"
      ]
     },
     "metadata": {
      "needs_background": "light"
     },
     "output_type": "display_data"
    }
   ],
   "source": [
    "import math\n",
    "import matplotlib.pyplot as plt\n",
    "import numpy as np\n",
    "\n",
    "tab = []\n",
    "bzw = []\n",
    "wzg = []\n",
    "pi = (math.sqrt((sum(1/(n**2) for n in range(1, 10000)))*6))\n",
    "\n",
    "for i in range(1, 101):\n",
    "    tab.append((math.sqrt((sum(1/(n**2) for n in range(1, i)))*6)))\n",
    "    bzw.append(math.fabs(tab[i-1] - math.pi))\n",
    "    wzg.append(bzw[i-1]/math.pi)\n",
    "\n",
    "x = np.linspace(1, 100, 100)\n",
    "plt.show()\n",
    "plt.plot(x, bzw)\n",
    "plt.legend(\"bezwzgledne\")\n",
    "plt.plot(x, wzg)\n",
    "plt.legend(\"wzgledne\")\n",
    "plt.xlabel(\"n\")\n",
    "plt.ylabel(\"blad\")\n",
    "plt.show()"
   ]
  },
  {
   "cell_type": "markdown",
   "metadata": {},
   "source": [
    "Mamy tutaj do czynienia z błędami zaokrąglenia i obcięcia"
   ]
  },
  {
   "cell_type": "code",
   "execution_count": null,
   "metadata": {},
   "outputs": [],
   "source": []
  }
 ],
 "metadata": {
  "kernelspec": {
   "display_name": "Python 3",
   "language": "python",
   "name": "python3"
  },
  "language_info": {
   "codemirror_mode": {
    "name": "ipython",
    "version": 3
   },
   "file_extension": ".py",
   "mimetype": "text/x-python",
   "name": "python",
   "nbconvert_exporter": "python",
   "pygments_lexer": "ipython3",
   "version": "3.7.0"
  }
 },
 "nbformat": 4,
 "nbformat_minor": 2
}
