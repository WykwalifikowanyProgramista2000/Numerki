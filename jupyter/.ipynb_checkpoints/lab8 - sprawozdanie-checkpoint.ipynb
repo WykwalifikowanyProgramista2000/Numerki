{
 "cells": [
  {
   "cell_type": "markdown",
   "metadata": {},
   "source": [
    "# <center>Laboratorium 7: Sprawozdanie</center>"
   ]
  },
  {
   "cell_type": "code",
   "execution_count": 13,
   "metadata": {},
   "outputs": [],
   "source": [
    "import matplotlib.pyplot as plt\n",
    "import math\n",
    "from typing import List\n",
    "import numpy\n",
    "import scipy.integrate as integrate\n",
    "from timeit import timeit\n",
    "\n",
    "\n",
    "# Zadanie 1\n",
    "\n",
    "def myfun(x: float) -> float:\n",
    "     return math.e**(-(x**2))\n",
    "\n",
    "\n",
    "def simple_trapezoid_method(f, begin, end):\n",
    "    return (end - begin)/2*(f(begin) + f(end))\n",
    "\n",
    "\n",
    "def simple_rectangle_method(f, begin, end):\n",
    "    return (end - begin)*f((begin+end)/2)\n",
    "\n",
    "\n",
    "def simple_simson_method(f, begin, end):\n",
    "    return (end - begin)/6*(f(begin) + 4 * f((begin - end)/2) + f(end))\n",
    "\n",
    "\n",
    "def advanced_trapezoid_method(f, begin, end):\n",
    "    ans = 0\n",
    "    n = abs(end - begin)//1*10\n",
    "    for i in range(0, n-1):\n",
    "        x_i = begin + i*((end - begin)/n)\n",
    "        x_i_1 = begin + (i+1)*((end - begin)/n)\n",
    "        ans += (x_i_1 - x_i)/2 * (f(x_i) + f(x_i_1))\n",
    "    return ans\n",
    "    \n",
    "    \n",
    "def advanced_rectangle_method(f, begin, end):\n",
    "    ans = 0\n",
    "    n = abs(end - begin)//1*10\n",
    "    for i in range(0 , n-1):\n",
    "        x_i = begin + i*((end - begin)/n)\n",
    "        x_i_1 = begin + (i+1)*((end - begin)/n)\n",
    "        ans += f((x_i_1 - x_i)/2) * (x_i_1 - x_i)\n",
    "    return ans\n",
    "\n",
    "\n",
    "def advanced_simson_method(f, begin, end):\n",
    "    ans = 0\n",
    "    n = abs(end - begin)//1*10\n",
    "    for i in range(0 , n-1):\n",
    "        x_i = begin + i*((end - begin)/n)\n",
    "        x_i_1 = begin + (i+1)*((end - begin)/n)\n",
    "        ans += (x_i_1 - x_i)/6 * (f(x_i) + 4 * f((x_i_1 + x_i)/2) + f(x_i_1))\n",
    "    return ans\n",
    "\n",
    "\n",
    "def romberg_method(f, begin: float, end: float, precission: float):\n",
    "    beginVal = f(begin)\n",
    "    endVal = f(end)\n",
    "    matrix = [[0],[0,0]]\n",
    "    \n",
    "    h = (end - begin)\n",
    "    xList = [begin, begin + h]\n",
    "    matrix[0][0] = 0.5*h*(beginVal + endVal)\n",
    "    \n",
    "    h = (end - begin)/2\n",
    "    xList = [begin + k*h for k in range(0, 2+1)]\n",
    "    matrix[1][0] = h*(sum([f(k) for k in xList])- 0.5*(beginVal + endVal))\n",
    "    \n",
    "    matrix[1][1] = matrix[1][0] + (matrix[1][0] - matrix[0][0])/(4-1)\n",
    "    \n",
    "    step = 2\n",
    "    powerOf2 = 2*2\n",
    "    while abs(matrix[step-1][step-1] - matrix[step-2][step-2]) > precission:\n",
    "        matrix.append([0]*(step+1))\n",
    "        \n",
    "        h=(end-begin)/(powerOf2)\n",
    "        elem = begin\n",
    "        xList = []\n",
    "        \n",
    "        while elem <= end:\n",
    "            xList.append(elem)\n",
    "            elem += h\n",
    "        \n",
    "        matrix[step][0] = h*(sum([f(k) for k in xList])- 0.5*(beginVal + endVal))\n",
    "                \n",
    "        for col in range(1, step+1):\n",
    "            matrix[step][col] = matrix[step][col-1] + (matrix[step][col-1] - matrix[step-1][col-1])/(4**col-1)\n",
    "        \n",
    "        step += 1\n",
    "        powerOf2 *= 2\n",
    "    \n",
    "    return matrix[step-1][step-1]\n"
   ]
  },
  {
   "cell_type": "markdown",
   "metadata": {},
   "source": [
    "***Zadanie 1***"
   ]
  },
  {
   "cell_type": "markdown",
   "metadata": {},
   "source": [
    "Tak, ponieważ funkcja jest na nim ciągła i różniczkowalna"
   ]
  },
  {
   "cell_type": "markdown",
   "metadata": {},
   "source": [
    "***Zadanie 2***"
   ]
  },
  {
   "cell_type": "code",
   "execution_count": 3,
   "metadata": {},
   "outputs": [
    {
     "data": {
      "text/plain": [
       "[<matplotlib.lines.Line2D at 0x1f5623145c0>]"
      ]
     },
     "execution_count": 3,
     "metadata": {},
     "output_type": "execute_result"
    },
    {
     "data": {
      "image/png": "[encoded data removed]",
      "text/plain": [
       "<Figure size 432x288 with 1 Axes>"
      ]
     },
     "metadata": {
      "needs_background": "light"
     },
     "output_type": "display_data"
    }
   ],
   "source": [
    "x = numpy.linspace(-0.5, 1)\n",
    "y = myfun(x)\n",
    "plt.plot(x, y)"
   ]
  },
  {
   "cell_type": "markdown",
   "metadata": {},
   "source": [
    "***Zadanie 3***"
   ]
  },
  {
   "cell_type": "code",
   "execution_count": 11,
   "metadata": {},
   "outputs": [
    {
     "name": "stdout",
     "output_type": "stream",
     "text": [
      "Moje metody:\n",
      "advanced_trapezoid_method: 0.7055739207620304\n",
      "advanced_rectangle_method: 0.8977528101577139\n",
      "advanced_simson_method:    0.7062415917484537\n",
      "romberg method:            0.7468240184822815\n",
      "\n",
      "Metody z pakietu scipy.integrate:\n",
      "trapz:                     0.7460668679126695\n",
      "sims:                      0.7467487155384416\n",
      "romberg:                   0.7468241328122438\n"
     ]
    }
   ],
   "source": [
    "a=0\n",
    "b=1\n",
    "\n",
    "print(\"Moje metody:\")\n",
    "print(\"advanced_trapezoid_method: {0}\".format(advanced_trapezoid_method(myfun, a, b)))\n",
    "print(\"advanced_rectangle_method: {0}\".format(advanced_rectangle_method(myfun, a, b)))\n",
    "print(\"advanced_simson_method:    {0}\".format(advanced_simson_method(myfun, a, b)))\n",
    "print(\"romberg method:            {0}\".format(romberg_method(myfun, a, b, 10e-6)))\n",
    "print(\"\\nMetody z pakietu scipy.integrate:\")\n",
    "x = numpy.linspace(a, b, 10)\n",
    "print(\"trapz:                     {0}\".format(integrate.trapz(myfun(x), x)))\n",
    "print(\"sims:                      {0}\".format(integrate.simps(myfun(x), x)))\n",
    "print(\"romberg:                   {0}\".format(integrate.romberg(myfun, 0, 1)))"
   ]
  },
  {
   "cell_type": "markdown",
   "metadata": {},
   "source": [
    "Można z łatwością dostrzec, że wyniki otrzymane za pomocą własnoręcznie zaimplementowanych metod są nieco zabużone względem metod bibliotecznych w wypadku metody trapezów i simpsona. Metoda romberga zaimplementowana przezemnie daje bardzo zbliżone wyniki do metody bibliotecznej."
   ]
  },
  {
   "cell_type": "markdown",
   "metadata": {},
   "source": [
    "***Zadanie 4***"
   ]
  },
  {
   "cell_type": "code",
   "execution_count": 28,
   "metadata": {},
   "outputs": [
    {
     "name": "stdout",
     "output_type": "stream",
     "text": [
      "Moje metody:\n",
      "advanced_trapezoid_method: 1.970609991985839e-05\n",
      "advanced_rectangle_method: 2.2169999283505604e-05\n",
      "advanced_simson_method:    2.8533099975902586e-05\n",
      "romberg method:            3.46503000400844e-05\n",
      "\n",
      "Metody z pakietu scipy.integrate i czas wykonania względem moich:\n",
      "trapz:                     4.438030027813511e-05    czas: -2.4674200358276724e-05\n",
      "sims:                      0.00023471009972126923    czas: -0.00020617699974536665\n",
      "romberg:                   0.0004491806001169607    czas: -0.0004145303000768763\n"
     ]
    }
   ],
   "source": [
    "my_trapz = sum([timeit(\"advanced_trapezoid_method(myfun, a, b)\", number=1, globals=globals()) for i in range(0, 10)])/10\n",
    "my_sims = sum([timeit(\"advanced_simson_method(myfun, a, b)\", number=1, globals=globals()) for i in range(0,10)])/10\n",
    "my_romberg = sum([timeit(\"romberg_method(myfun, a, b, 10e-6)\", number=1, globals=globals()) for i in range(0,10)])/10\n",
    "\n",
    "bib_trapz = sum([timeit(\"integrate.trapz(myfun(x), x)\", number=1, globals=globals()) for i in range(0,10)])/10\n",
    "bib_sims = sum([timeit(\"integrate.simps(myfun(x), x)\", number=1, globals=globals()) for i in range(0,10)])/10\n",
    "bib_romberg = sum([timeit(\"integrate.romberg(myfun, 0, 1)\", number=1, globals=globals()) for i in range(0,10)])/10\n",
    "\n",
    "print(\"Moje metody:\")\n",
    "print(\"advanced_trapezoid_method: {0}\".format(my_trapz))\n",
    "print(\"advanced_rectangle_method: {0}\".format(timeit(\"advanced_rectangle_method(myfun, a, b)\", number=1, globals=globals())))\n",
    "print(\"advanced_simson_method:    {0}\".format(my_sims))\n",
    "print(\"romberg method:            {0}\".format(my_romberg))\n",
    "\n",
    "print(\"\\nMetody z pakietu scipy.integrate i czas wykonania względem moich:\")\n",
    "print(\"trapz:                     {0}    czas: {1}\".format(bib_trapz, my_trapz - bib_trapz))\n",
    "print(\"sims:                      {0}    czas: {1}\".format(bib_sims, my_sims - bib_sims))\n",
    "print(\"romberg:                   {0}    czas: {1}\".format(bib_romberg, my_romberg - bib_romberg))\n",
    "\n"
   ]
  },
  {
   "cell_type": "markdown",
   "metadata": {},
   "source": [
    "***Zadanie 5***"
   ]
  },
  {
   "cell_type": "code",
   "execution_count": null,
   "metadata": {},
   "outputs": [],
   "source": []
  }
 ],
 "metadata": {
  "kernelspec": {
   "display_name": "Python 3",
   "language": "python",
   "name": "python3"
  },
  "language_info": {
   "codemirror_mode": {
    "name": "ipython",
    "version": 3
   },
   "file_extension": ".py",
   "mimetype": "text/x-python",
   "name": "python",
   "nbconvert_exporter": "python",
   "pygments_lexer": "ipython3",
   "version": "3.7.0"
  }
 },
 "nbformat": 4,
 "nbformat_minor": 2
}
