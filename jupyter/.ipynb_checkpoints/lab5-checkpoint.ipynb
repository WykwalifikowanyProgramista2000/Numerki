{
 "cells": [
  {
   "cell_type": "markdown",
   "metadata": {},
   "source": [
    "# <center>Laboratorium 5: Interpolacja wielomianowa<br>Metody Numeryczne</center>"
   ]
  },
  {
   "cell_type": "markdown",
   "metadata": {},
   "source": [
    "Instrukcja:  \n",
    "Na zajęciach należy wykonać poniższe zadania, a następnie sporządzić sprawozdanie zawierające odpowiedzi (w postaci kodu) z komentarzami w środowisku Jupyter Notebook i umieścić je na platformie e-learningowej."
   ]
  },
  {
   "cell_type": "markdown",
   "metadata": {},
   "source": [
    "***Temat główny:***   \n",
    "Dany jest przedział $[-1, 1]$ oraz zadane na nim siedem węzłów równoodległych $x_r$ oraz\n",
    "siedem węzłów Czebyszewa $x_c$. Dana jest również funkcja:\n",
    "określona na tym przedziale.\n",
    "\n",
    "$f(x) = \\cfrac{1}{25x^2 + 1}$\n",
    "\n",
    "Wyznacz funkcję interpolującą przechodzącą odpowiednio przez punkty ($x_r$ ; $f(x_r)$)\n",
    "i ($x_c$ ; $f(x_c)$) za pomocą metod:  \n",
    "\n",
    "* Lagrange'a\n",
    "* Newtona"
   ]
  },
  {
   "cell_type": "markdown",
   "metadata": {},
   "source": [
    "***Zadanie 1.***   \n",
    "\n",
    "W celu wykonywania rysunków i obliczeń porównawczych należy zdefiniować\n",
    "wektor 1000 punktów równoodległych na przedziale [-1,1]. W tym celu skożystać należy z funkcji *[linspace](https://docs.scipy.org/doc/numpy-1.10.0/reference/generated/numpy.linspace.html)*  \n",
    "\n",
    "W celu wykonywania interpolacji należy przygotować funkcję wyliczającą wektor węzłów równoodległych oraz Czebyszewa dany wzorem\n",
    "  \n",
    "  $x(k) = \\cos\\left(\\cfrac{k\\pi}{n}\\right)\\ k = 1,2,...,n$\n"
   ]
  },
  {
   "cell_type": "markdown",
   "metadata": {},
   "source": [
    "***Zadanie 2.***   \n",
    "\n",
    "Zaimplementować algorytm metody Lagrange'a w postaci funkcji przyjmującej argumenty x i y, odpowiadające kolejnym węzłą interpolacji. Następnie wykonać wykresy danej funkcji, funkcji interpolujących przechodzących przez\n",
    "zadane węzły oraz węzły interpolacji."
   ]
  },
  {
   "cell_type": "markdown",
   "metadata": {},
   "source": [
    "***Zadanie 3.***  \n",
    "\n",
    "Dla metody Newtona:\n",
    "* wyznaczyć macierz ilorazów różnicowych,\n",
    "* zaimplementować algorytm metody w postaci funkcji przyjmującej x i y, odpowiadające kolejnym węzłą interpolacji,\n",
    "* wykonać wykresy danej funkcji, funkcji interpolujących przechodzących przez zadane węzły oraz węzły interpolacji."
   ]
  },
  {
   "cell_type": "markdown",
   "metadata": {},
   "source": [
    "***Zadanie 4.***  \n",
    "Do oceny jakości interpolacji stosuje się normę wektorową $l_{\\infty}$, dla różnicy wektorów definujemy ją jako:  \n",
    "  \n",
    "$||\\mathbf{x_1}-\\mathbf{x_2}|| = \\sup\\{|\\mathbf{x_1}-\\mathbf{x_2}|\\}$  \n",
    "  \n",
    "Zaimplementuj normę $l_{\\infty}$."
   ]
  },
  {
   "cell_type": "markdown",
   "metadata": {},
   "source": [
    "***Zadanie 5.*** \n",
    "\n",
    "Porównać metody Newtona i Lagrange'a.\n"
   ]
  },
  {
   "cell_type": "markdown",
   "metadata": {},
   "source": [
    "***Zadanie 6.***\n",
    "\n",
    "Biblioteka scipy posiada moduł używany do *[interpolacji](https://docs.scipy.org/doc/scipy/reference/interpolate.html)*.\n",
    "Wykorzystując zaimplementowaną metodę *[interpolacji Lagrange'a](https://docs.scipy.org/doc/scipy/reference/generated/scipy.interpolate.lagrange.html#scipy.interpolate.lagrange)*, zbadać różnice między nią, a własną implementacją z zadania 2:\n",
    "* jakość wyników\n",
    "* czas działania\n",
    "\n",
    "Wyniki przedstawić na wykresie/wykresach w czytelny sposób."
   ]
  }
 ],
 "metadata": {
  "kernelspec": {
   "display_name": "Python 3",
   "language": "python",
   "name": "python3"
  },
  "language_info": {
   "codemirror_mode": {
    "name": "ipython",
    "version": 3
   },
   "file_extension": ".py",
   "mimetype": "text/x-python",
   "name": "python",
   "nbconvert_exporter": "python",
   "pygments_lexer": "ipython3",
   "version": "3.7.0"
  }
 },
 "nbformat": 4,
 "nbformat_minor": 2
}
