{
 "cells": [
  {
   "cell_type": "markdown",
   "metadata": {},
   "source": [
    "# <center>Laboratorium 4: Miejsca zerowe funkcji<br>Metody Numeryczne</center>"
   ]
  },
  {
   "cell_type": "markdown",
   "metadata": {},
   "source": [
    "Instrukcja:  \n",
    "Na zajęciach należy wykonać poniższe zadania, a następnie sporządzić sprawozdanie zawierające odpowiedzi (w postaci kodu) z komentarzami w środowisku Jupyter Notebook i umieścić je na platformie e-learningowej."
   ]
  },
  {
   "cell_type": "markdown",
   "metadata": {},
   "source": [
    "***Temat główny:***   \n",
    "\n",
    "Znajdź miejsca zerowe funkcji    \n",
    "    \n",
    "$ f(x) = e^{-2x} + x^2 - 1 $\n",
    "\n",
    "Metodami:\n",
    "* Bisekcji\n",
    "* Stycznych\n",
    "* Newtona"
   ]
  },
  {
   "cell_type": "markdown",
   "metadata": {},
   "source": [
    "***Zadanie 1.***  \n",
    "Wykonaj wykres funckji oraz jej pierwszej i drugiej pochodnej (obliczonej analitycznie) na jednym rysunku w przedziale pozwalającym na zgrubne określenie miejsc zerowych. Wykres powinien być odpowiednio opisany."
   ]
  },
  {
   "cell_type": "markdown",
   "metadata": {},
   "source": [
    "***Zadanie 2.***    \n",
    "Dobierz odpowiednie przedziały izolacji tak, aby zagwarantować zbieżność metody i wykaż, że funkcja spełnia warunki wystarczające w tych wybranych przedziałach\n",
    "* Wypisz warunki wystarczające zbieżności funkcji w przedziale izolacji pierwiastka dla metod wymienioncyh powyżej"
   ]
  },
  {
   "cell_type": "markdown",
   "metadata": {},
   "source": [
    "***Zadanie 3.***  \n",
    "Zaimplementuj metody wymienione powyżej i znajdź miejsca zerowe z dokładnością do $10^{-6}$."
   ]
  },
  {
   "cell_type": "markdown",
   "metadata": {},
   "source": [
    "***Zadanie 4.***  \n",
    "Podaj liczbe iteracji potrzebną do otrzymania rozwiązania przy urzyciu każdej z metod. Porównaj na tej podstawie poszczególne metody.\n"
   ]
  },
  {
   "cell_type": "markdown",
   "metadata": {},
   "source": [
    "***Zadanie 5.***\n",
    "Zobrazuj na trzech osobnych wykresach dwie pierwsze iteracje zastosowanych algorytmów do znalezienia jednego z miejsc zerowegych.   \n",
    "* Kolejne iteracje powinny być przedstawione na legendzie, najlepiej każda przy zastosowaniu innego koloru\n",
    "* Kolejne przybliżenie miejsc zerowych powinno być wyraźnie zaznaczone\n",
    "* Jeśli jest to konieczne, proszę również przedstawić linie które ilustrują istotę metody"
   ]
  },
  {
   "cell_type": "markdown",
   "metadata": {},
   "source": [
    "***Zadanie 6.***  \n",
    "Znajdź miejsca zerowe funkcji używająć funckji dostępnych w pakiecie [scipy.optimize](https://docs.scipy.org/doc/scipy/reference/optimize.html). \n",
    "* [root](https://docs.scipy.org/doc/scipy/reference/generated/scipy.optimize.root.html#scipy.optimize.root)\n",
    "* [fsolve](https://docs.scipy.org/doc/scipy/reference/generated/scipy.optimize.fsolve.html#scipy.optimize.fsolve)\n",
    "* dowolnych dwóch innych funkcji dostępnych w tym pakiecie"
   ]
  }
 ],
 "metadata": {
  "kernelspec": {
   "display_name": "Python 3",
   "language": "python",
   "name": "python3"
  },
  "language_info": {
   "codemirror_mode": {
    "name": "ipython",
    "version": 3
   },
   "file_extension": ".py",
   "mimetype": "text/x-python",
   "name": "python",
   "nbconvert_exporter": "python",
   "pygments_lexer": "ipython3",
   "version": "3.7.0"
  }
 },
 "nbformat": 4,
 "nbformat_minor": 2
}
