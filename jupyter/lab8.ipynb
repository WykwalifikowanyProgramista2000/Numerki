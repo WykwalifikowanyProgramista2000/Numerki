{
 "cells": [
  {
   "cell_type": "markdown",
   "metadata": {},
   "source": [
    "# <center>Laboratorium 7: Całkowanie Numeryczne</center>"
   ]
  },
  {
   "cell_type": "markdown",
   "metadata": {},
   "source": [
    "Instrukcja:  \n",
    "Na zajęciach należy wykonać poniższe zadania, a następnie sporządzić sprawozdanie zawierające odpowiedzi (w postaci kodu) z komentarzami w środowisku Jupyter Notebook i umieścić je na platformie e-learningowej."
   ]
  },
  {
   "cell_type": "markdown",
   "metadata": {},
   "source": [
    "***Temat główny:***   \n",
    "\n",
    "Dokonaj całkowania numerycznego funkcji: \n",
    "    \n",
    "### $ f(x) = e^{-x^{2}}$\n",
    "\n",
    "na przedziale [0;1] metodami:\n",
    "* prostokątów (punktu środka),\n",
    "* trapezu,\n",
    "* złożonymi metodami a)-c) dla 10 podprzedziałów\n",
    "* Romberga z dokładnością $10^{-6}$"
   ]
  },
  {
   "cell_type": "markdown",
   "metadata": {},
   "source": [
    "***Zadanie 1.***  \n",
    "Odpowiedź na pytanie czy całka na zadanym przedziale istnieje? "
   ]
  },
  {
   "cell_type": "markdown",
   "metadata": {},
   "source": [
    "***Zadanie 2.***    \n",
    "Wykonaj wykres funckji w przedziale [-0.5, 1]."
   ]
  },
  {
   "cell_type": "markdown",
   "metadata": {},
   "source": [
    "***Zadanie 3.***  \n",
    "Zaimplementuj wszystkie metody całkowania numerycznego z tematu głównego i porównaj ich działanie z funkcjami pakietu [scipy.integrate](https://docs.scipy.org/doc/scipy/reference/tutorial/integrate.html). "
   ]
  },
  {
   "cell_type": "markdown",
   "metadata": {},
   "source": [
    "***Zadanie 4.***  \n",
    "Sprawdź różnicę czasu wykonania zaimplementowanych funkcji całkowania i wbudowanych w Pythona"
   ]
  },
  {
   "cell_type": "markdown",
   "metadata": {},
   "source": [
    "***Zadanie 5.***\n",
    "Porównaj dokładności otrzymanych wyników po między metodami."
   ]
  },
  {
   "cell_type": "markdown",
   "metadata": {},
   "source": [
    "***Zadanie 6. (dodatkowe, nieobowiązkowe)***  \n",
    "Oblicz numerycznie:  \n",
    "### $\\int_{0}^{\\infty} \\sin\\left(\\cfrac{1+\\sqrt{x}}{1+x^{2}}\\right)e^{-x}$  \n",
    "z dokładnością do $10^{-7}$\n",
    "\n",
    "1. Czy metody całkowania z tematu głownego zadziałąją?\n",
    "2. Oblicz wartość całki analitycznie.\n",
    "3. Jeżeli to konieczne zaimplementuj odpowiednią metodę numeryczną wybraną przez siebie."
   ]
  },
  {
   "cell_type": "code",
   "execution_count": null,
   "metadata": {},
   "outputs": [],
   "source": []
  }
 ],
 "metadata": {
  "kernelspec": {
   "display_name": "Python 3",
   "language": "python",
   "name": "python3"
  },
  "language_info": {
   "codemirror_mode": {
    "name": "ipython",
    "version": 3
   },
   "file_extension": ".py",
   "mimetype": "text/x-python",
   "name": "python",
   "nbconvert_exporter": "python",
   "pygments_lexer": "ipython3",
   "version": "3.7.0"
  }
 },
 "nbformat": 4,
 "nbformat_minor": 2
}
