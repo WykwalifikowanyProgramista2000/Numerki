{
 "cells": [
  {
   "cell_type": "markdown",
   "metadata": {},
   "source": [
    "# <center>Laboratorium 3<br>Metody Numeryczne</center>"
   ]
  },
  {
   "cell_type": "markdown",
   "metadata": {},
   "source": [
    "Instrukcja:  \n",
    "Na zajęciach należy wykonać poniższe zadania, a następnie sporządzić sprawozdanie zawierające odpowiedzi (w postaci kodu) z komentarzami w środowisku Jupyter Notebook i umieścić je na platformie e-learningowej."
   ]
  },
  {
   "cell_type": "markdown",
   "metadata": {},
   "source": [
    "***Materiały przygotowujące:***\n",
    "- Standard IEEE 754 [PL](https://pl.wikipedia.org/wiki/IEEE_754) [EN](https://en.wikipedia.org/wiki/IEEE_754)\n",
    "- Liczba zmiennoprzecinkowa [PL](https://pl.wikipedia.org/wiki/Liczba_zmiennoprzecinkowa) [EN](https://en.wikipedia.org/wiki/Floating-point_arithmetic)\n",
    "- Arytmetyka zmiennoprzecinkowa [Python](https://docs.python.org/3.7/tutorial/floatingpoint.html)"
   ]
  },
  {
   "cell_type": "markdown",
   "metadata": {},
   "source": [
    "***Zadanie 1.***  \n",
    "Oblicz wartości wyrażenia $P$ używając wzorów:  \n",
    "  \n",
    "a) $P =b-1/(1/b) +0.1 $  \n",
    "b) $P = b+0.1-1/(1/b)$  \n",
    "  \n",
    "dla $b = 1.123456789\\cdot10^{15}$ (w Pythonie $10^{X}$ można zapisać jako $1eX$ ).\n",
    "Analizując różnicę w otrzymanych wynikach odpowiedź na pytania:\n",
    "1. Jaki wynik powinniśmy otrzymać?\n",
    "2. Dlaczego wyniki się od siebie różnią?\n",
    "3. Jaki typ błędu tutaj występuje?\n",
    "4. Czy dla $b << 1.123456789\\cdot10^{15}$ błąd zachodzi? Jeżeli tak to dlaczego?\n",
    "5. Który wzór na wartość $P$ jest bardziej odporny numerycznie i dlaczego?\n",
    "6. Czy istnieje możliwość poprawy działania tych wyrażeń, jeżeli tak to w jaki sposób? "
   ]
  },
  {
   "cell_type": "markdown",
   "metadata": {},
   "source": [
    "***Zadanie 2.***  \n",
    "Dany jest ciąg:  \n",
    "  \n",
    "$G(p)=\\cfrac{1}{p}\\left[10^{p}\\left(1+p\\pi10^{-p}\\right)-10^{p}\\right],\\ p=1,2,3,\\dots,n $\n",
    "  \n",
    "gdzie liczba $\\pi$ jest brana z dokładnością do 15 miejsc po przecinku. W tym celu należy użyć funkcji *[round](https://docs.scipy.org/doc/numpy-1.13.0/reference/generated/numpy.round_.html)*.\n",
    "  \n",
    "Napisz funkcję która umożliwi obliczenie $n$ pierwszych wyrazów tego ciągu i zwróci je w postaci wektora. Analizując rozwiązania odpowiedź na następujące pytania:  \n",
    "1. Czy wartość $G(p)$ obliczona w sposób analityczny zależy od $p$?\n",
    "2. Oblicz błąd bezwzględny i względny otrzymanych wyników i przedstaw je na wykresie w zależności od $n$ - wartość błędu przedstaw na skali logarytmicznej.\n",
    "3. Jak zmienia się błąd w zależności od $n$ i co można stwierdzić na podstawie jego zachowania? \n",
    "4. Jaki rodzaj błędu tutaj występuje?"
   ]
  },
  {
   "cell_type": "markdown",
   "metadata": {},
   "source": [
    "***Zadanie 3.***  \n",
    "Liczbę $\\mathrm{e}$ możemy zdefiniować jako $\\sum\\limits_{n=0}^{\\infty} \\frac{1}{n!} $, oblicz błąd względny i bezwzględny aproksymacji liczby e poprzez $\\mathrm{e}^{*}$ w przypadku gdy:  \n",
    "1. $\\mathrm{e}^{*}=\\sum\\limits_{n=1}^{5} \\frac{1}{n!}$    \n",
    "2. $\\mathrm{e}^{*}=\\sum\\limits_{n=1}^{10} \\frac{1}{n!}$  \n",
    "  \n",
    "***Wskazówka:*** Należy skorzystać z funkcji $n!$ zaimplementowanej w Pythonie"
   ]
  },
  {
   "cell_type": "markdown",
   "metadata": {},
   "source": [
    "***Zadanie 4.***  \n",
    "Wartości funkcji $\\mathrm{e}^{x}$ można obliczyć w przybliżeniu z szeregu Taylora w następujący sposób:  \n",
    "  \n",
    "$\\mathrm{e}^{x} \\approx \\sum\\limits_{i=0}^{N}{\\cfrac{1}{i!}x^{i}}$  \n",
    "  \n",
    "na podstawie przedstawionych informacji napisz funkcję która oblicza $\\mathrm{e}^{x}$ z zadaną dokładnością $N$. Porównaj działanie utworzonej funkcji z *[numpy.exp](https://docs.scipy.org/doc/numpy-1.15.1/reference/generated/numpy.exp.html)*. Odpowiedz na pytania:  \n",
    "1. Czy utworzona funkcja jest stabilna numerycznie?\n",
    "2. Jaki typ błędu obrazuje omawiany przykład?"
   ]
  },
  {
   "cell_type": "markdown",
   "metadata": {},
   "source": [
    "***Zadania 5.***  \n",
    "Dysponujemy maszyną cyfrową, która do reprezentowania liczb rzeczywistych wykorzystuje 8 bitów pamięci. Reprezentacja ma postać (s)mmmm(s)cc\n",
    "gdzie:  \n",
    "    s oznacza znak (1 to znak minus, 0 to znak plus)  \n",
    "    m oznacza cyfrę mantysy  \n",
    "    c oznacza cyfrę cechy  \n",
    "np. (1)1110(0)11 można przeliczyć na postać dziesiętną przy użyciu formuły\n",
    "$-(1/2+1/4+1/8+0/16)*2^{+(1*2+1*1)}= -0.875 * 2^{3} = -7 $  \n",
    "  \n",
    "a) znajdź zakres reprezentowanych liczb  \n",
    "b) oblicz błąd niedomiaru dla liczby dziesiętnej 0.001  \n",
    "c) oblicz błąd nadmiaru dla liczby dziesiętnej 8  \n",
    "d) oblicz błąd zaokrąglenia bezwzględny oraz względny dla liczby 0.2, która w zapisie dwójkowym ma nieskończone rozwinięcie. Najbliższą jej liczbą reprezentowaną w tym systemie jest: (0)1100(1)10  \n",
    "e) przedstaw na wykresie zależność wartości minimalnej i maksymalnej (co do modułu) reprezentowanej liczby od ilości bitów mantysy. Przyjmij, ze cecha zapisywana jest na dwóch bitach, a liczba bitów mantysy zmienia się od 1 do 8.  \n",
    "  \n",
    "***Wskazówka***: zaimplementuj funkcje znajdujące najmniejszą i największą (co do modułu) liczbę reprezentowaną w zależności od liczby bitów mantysy i cechy."
   ]
  },
  {
   "cell_type": "markdown",
   "metadata": {},
   "source": [
    "***Zadanie 6.***  \n",
    "Dla jakich wartości kąta $\\alpha$ zadanie \"oblicz $y(\\alpha) = \\tan(\\alpha) $\" jest źle uwarunkowane? Narysuj wykres funkcji $f(x)=\\tan(x)$."
   ]
  },
  {
   "cell_type": "markdown",
   "metadata": {},
   "source": [
    "***Zadanie 7.***  \n",
    "Wiedząc, że\n",
    "$\\begin{aligned}\n",
    "\\sum_{n=1}^{\\infty} \\cfrac{1}{n^2} = \\cfrac{1}{6} \\pi^2\n",
    "\\end{aligned}$,\n",
    "napisz jednolinijkowy kod w Pythonie obliczający przybliżenie liczby pi (nie korzystaj ze stałych <i>numpy.pi</i>, <i>math.pi</i> itp.). Z jakimi rodzajami błędów numerycznych mamy tu do czynienia? Sporządź wykresy błędów bezwzględnych i względnych w zależności od wartości $n$. "
   ]
  },
  {
   "cell_type": "code",
   "execution_count": null,
   "metadata": {},
   "outputs": [],
   "source": []
  },
  {
   "cell_type": "code",
   "execution_count": null,
   "metadata": {},
   "outputs": [],
   "source": []
  },
  {
   "cell_type": "code",
   "execution_count": null,
   "metadata": {},
   "outputs": [],
   "source": []
  }
 ],
 "metadata": {
  "kernelspec": {
   "display_name": "Python 3",
   "language": "python",
   "name": "python3"
  },
  "language_info": {
   "codemirror_mode": {
    "name": "ipython",
    "version": 3
   },
   "file_extension": ".py",
   "mimetype": "text/x-python",
   "name": "python",
   "nbconvert_exporter": "python",
   "pygments_lexer": "ipython3",
   "version": "3.7.0"
  }
 },
 "nbformat": 4,
 "nbformat_minor": 2
}
