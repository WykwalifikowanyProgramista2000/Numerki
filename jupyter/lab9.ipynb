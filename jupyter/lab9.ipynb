{
 "cells": [
  {
   "cell_type": "markdown",
   "metadata": {},
   "source": [
    "# <center>Laboratorium 7: Współczynnik uwarunkowania oraz układy równań liniowych - metody dokładne</center>"
   ]
  },
  {
   "cell_type": "markdown",
   "metadata": {},
   "source": [
    "Instrukcja:  \n",
    "Na zajęciach należy wykonać poniższe zadania, a następnie sporządzić sprawozdanie zawierające odpowiedzi (w postaci kodu) z komentarzami w środowisku Jupyter Notebook i umieścić je na platformie e-learningowej."
   ]
  },
  {
   "cell_type": "markdown",
   "metadata": {},
   "source": [
    "***Temat główny:***   \n",
    "\n",
    "Rozwiązać układ równań: \n",
    "    \n",
    "### $ Ax = b$\n",
    "\n",
    "gdzie:\n",
    "\n",
    "$\\mathbf{A} =\\left[ \\begin{matrix}\n",
    "1 & 8 & 2\\\\\n",
    "-20 & 12 & 0\\\\\n",
    "-3 & 5 & 17\n",
    "\\end{matrix}\\right]$\n",
    "\n",
    "$\\mathbf{b} =\\left[ \\begin{matrix}\n",
    "44\\\\\n",
    "8\\\\\n",
    "99\n",
    "\\end{matrix}\\right]\n",
    "$    \n",
    "\n",
    "\n",
    "metodami:\n",
    "* eliminacji Gaussa,\n",
    "* rozkład LU"
   ]
  },
  {
   "cell_type": "markdown",
   "metadata": {},
   "source": [
    "***Zadanie 1.***  \n",
    "Zaimplementować funkcje obliczające współczynnik uwarunkowania macierzy używające w tym celu normy:\n",
    "* kolumnowej\n",
    "* spektralnej\n",
    "* wierszowej\n",
    "\n",
    "Wykorzystać powyższe funkcje do obliczenia współczynnika dla macierz A oraz macierzy Hilberta o wymiarach $5x5$. \n",
    "\n",
    "Wskazówki:  \n",
    "[Definicje norm](https://pl.wikipedia.org/wiki/Norma_macierzowa)\n",
    "\n",
    "Pakiet SciPy posiada [metody](https://docs.scipy.org/doc/numpy/reference/routines.linalg.html) pozwalające w prosty sposób wyznaczyć np. wartości własne macierzy. Dla referencji można skorzystać również z metody obliczającej uwarunkowanie macierzy - [cond](https://docs.scipy.org/doc/numpy/reference/generated/numpy.linalg.cond.html#numpy.linalg.cond)."
   ]
  },
  {
   "cell_type": "markdown",
   "metadata": {},
   "source": [
    "***Zadanie 2.***    \n",
    "Zaimplementować metode rozwiązywania układu równań przy pomocy eliminacji Gaussa.\n",
    "\n",
    "Wskazówki:  \n",
    "Należy przekształcić układ równań i wyświetlić uzyskaną macierz trójkątną oraz\n",
    "przekształcony wektor wyrazów wolnych. Następnie należy rozwiązać układ metodą\n",
    "podstawień wstecznych"
   ]
  },
  {
   "cell_type": "markdown",
   "metadata": {},
   "source": [
    "***Zadanie 3.***  \n",
    "Zaimplementować metode rozwiązywania układu równań przy pomocy rezkładu LU.\n",
    "\n",
    "Wskazówki:  \n",
    "Należy rozłożyć macierz A na iloczyn macierzy LU, wyświetlić te macierze i\n",
    "sprawdzić czy faktycznie ich iloczyn = A. Następnie należy zapisać wyjściowy układ\n",
    "równań Ax=b w postaci dwóch układów równań (z macierzami trójkątnymi), a potem\n",
    "rozwiązać te układy odpowiednio metodą podstawień oraz podstawień wstecznych."
   ]
  },
  {
   "cell_type": "markdown",
   "metadata": {},
   "source": [
    "***Zadanie 4.***  \n",
    "Porównać metody działania obu metod pod względem wyników i czasu działania."
   ]
  },
  {
   "cell_type": "markdown",
   "metadata": {},
   "source": [
    "***Zadanie 5.***  \n",
    "Wykorzystać [funkcje](https://docs.scipy.org/doc/numpy/reference/generated/numpy.linalg.solve.html#numpy.linalg.solve) \n",
    "pakietu scipy do rozwiązania zadani i porównać z własną implementacją"
   ]
  }
 ],
 "metadata": {
  "kernelspec": {
   "display_name": "Python 3",
   "language": "python",
   "name": "python3"
  },
  "language_info": {
   "codemirror_mode": {
    "name": "ipython",
    "version": 3
   },
   "file_extension": ".py",
   "mimetype": "text/x-python",
   "name": "python",
   "nbconvert_exporter": "python",
   "pygments_lexer": "ipython3",
   "version": "3.7.0"
  }
 },
 "nbformat": 4,
 "nbformat_minor": 2
}
