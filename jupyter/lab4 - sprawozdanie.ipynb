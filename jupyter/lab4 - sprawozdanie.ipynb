{
 "cells": [
  {
   "cell_type": "markdown",
   "metadata": {},
   "source": [
    "***Temat główny***"
   ]
  },
  {
   "cell_type": "code",
   "execution_count": 3,
   "metadata": {},
   "outputs": [
    {
     "name": "stdout",
     "output_type": "stream",
     "text": [
      "['miejsca zerowe bisekcją:', 4.76837158203125e-07, 0.9165630340576172] \n",
      " ['miejsce zerowe siecznych', 5.379604447275469e-16, 0.9165625831055494] \n",
      " ['miejsce zerowe stycznych', 1.4004525629535264e-17, 0.9165625831056982]\n"
     ]
    }
   ],
   "source": [
    "import math\n",
    "import numpy as np\n",
    "import matplotlib.pyplot as plt\n",
    "\n",
    "def myFun(x)->float:\n",
    "    return (math.e**((-2)*x))+(x**2)-1\n",
    "\n",
    "def myFunPrime(x)->float:\n",
    "    return (2*x - 2*math.e**((-2)*x))\n",
    "    \n",
    "\n",
    "\n",
    "def myFunBis(x)->float:\n",
    "    return (4*math.e**(-2*x)+2)\n",
    "\n",
    "\n",
    "def bisekcja(a: float, b: float, Ex: float)->float:\n",
    "    while math.fabs(a - b) > Ex:\n",
    "        x1  = (a+b)/2\n",
    "        \n",
    "        if math.fabs(myFun(x1)) <= Ex:\n",
    "            return x1\n",
    "        elif myFun(x1)*myFun(a) < 0:\n",
    "            b = x1\n",
    "        else:\n",
    "            a = x1\n",
    "    return ((a+b)/2)\n",
    "\n",
    "\n",
    "def siecznych(x0, x1, n, Ex):\n",
    "    for i in range(n):\n",
    "        if math.fabs(myFun(x1) - myFun(x0)) <= Ex:\n",
    "            return x1\n",
    "        x_temp = x1 - (myFun(x1)*(x1-x0)*1.0)/(myFun(x1) - myFun(x0))\n",
    "        x0 = x1\n",
    "        x1 = x_temp\n",
    "    return x1\n",
    "\n",
    "\n",
    "def stycznychNewtona(x0, E0, Ex):\n",
    "    for i in range(64):\n",
    "        y = myFun(x0)\n",
    "        yp = myFunPrime(x0)\n",
    "        if abs(yp) < Ex:\n",
    "            return None\n",
    "        x1 = x0 - y/yp\n",
    "        if abs(x0 - x1) <= E0:\n",
    "            return x1\n",
    "        x0 = x1\n",
    "        stycznychNewtona(x0, E0, Ex)\n",
    "    return None\n",
    "        \n",
    "\n",
    "\n",
    "bis = ['miejsca zerowe bisekcją:', bisekcja(-1, 0.5, 1.0e-6), bisekcja(0.5, 1.5, 1.0e-6)]\n",
    "sie = ['miejsce zerowe siecznych', siecznych(-0.5, 0.4, 200, 1.0e-6), siecznych(0.5, 1.5, 200, 1.0e-6)]\n",
    "sty = ['miejsce zerowe stycznych', stycznychNewtona(-4, 1.0e-6, 1.0e-6), stycznychNewtona(1, 1.0e-6, 1.0e-6)]\n",
    "\n",
    "print(bis, '\\n', sie, '\\n', sty)"
   ]
  },
  {
   "cell_type": "markdown",
   "metadata": {},
   "source": [
    "***Zadanie 1)***"
   ]
  },
  {
   "cell_type": "code",
   "execution_count": 4,
   "metadata": {},
   "outputs": [
    {
     "data": {
      "text/plain": [
       "Text(0.5,1,\"Funkcja f, f', f''\")"
      ]
     },
     "execution_count": 4,
     "metadata": {},
     "output_type": "execute_result"
    },
    {
     "data": {
      "image/png": "[encoded data removed]",
      "text/plain": [
       "<Figure size 432x288 with 1 Axes>"
      ]
     },
     "metadata": {
      "needs_background": "light"
     },
     "output_type": "display_data"
    }
   ],
   "source": [
    "y0, y1, y2 = [], [], []\n",
    "x = np.linspace(-0.2, 1.0, 300)\n",
    "for i in x:\n",
    "    y0.append(myFun(i))\n",
    "    y1.append(myFunPrime(i))\n",
    "    y2.append(myFunBis(i))\n",
    "plt.plot(x, y0, color= 'r')\n",
    "plt.legend('f')\n",
    "plt.plot(x, y1, color= 'g')\n",
    "plt.legend(\"f'\")\n",
    "plt.plot(x, y2, color= 'b')\n",
    "plt.legend(\"f''\")\n",
    "plt.axhline(y = 0, color = 'm')\n",
    "plt.xlabel('x')\n",
    "plt.ylabel('y')\n",
    "plt.title(\"Funkcja f, f', f''\")"
   ]
  },
  {
   "cell_type": "markdown",
   "metadata": {},
   "source": [
    "***Zadanie 2)***"
   ]
  },
  {
   "cell_type": "code",
   "execution_count": 5,
   "metadata": {},
   "outputs": [
    {
     "data": {
      "text/plain": [
       "\"\\n>f(x) jest ciągła w przedziale domkniętym [a;b]\\n>na końcach przedziału [a;b] wartości funkcji przyjmują przeciwne znaki f(a)*f(b)<0\\n>f'(x) oraz f''(x) istnieją, są ciągłe i mają stały znak w [a;b]\\n\""
      ]
     },
     "execution_count": 5,
     "metadata": {},
     "output_type": "execute_result"
    }
   ],
   "source": [
    "bis = ['miejsca zerowe bisekcją:', bisekcja(-1, 0.5, 1.0e-6), bisekcja(0.5, 1.5, 1.0e-6)]\n",
    "'''\n",
    ">f(x) jest ciągła w przedziale domkniętym [a;b]\n",
    ">na końcach przedziału [a;b] wartości funkcji przyjmują przeciwne znaki f(a)*f(b)<0\n",
    "'''\n",
    "sie = ['miejsce zerowe siecznych', siecznych(-0.5, 0.4, 200, 1.0e-6), siecznych(0.5, 1.5, 200, 1.0e-6)]\n",
    "'''\n",
    ">f(x) jest ciągła w przedziale domkniętym [a;b]\n",
    ">na końcach przedziału [a;b] wartości funkcji przyjmują przeciwne znaki f(a)*f(b)<0\n",
    ">f'(x) oraz f''(x) istnieją, są ciągłe i mają stały znak w [a;b]\n",
    "'''\n",
    "sty = ['miejsce zerowe stycznych', stycznychNewtona(-4, 1.0e-6, 1.0e-6), stycznychNewtona(1, 1.0e-6, 1.0e-6)]\n",
    "'''\n",
    ">f(x) jest ciągła w przedziale domkniętym [a;b]\n",
    ">na końcach przedziału [a;b] wartości funkcji przyjmują przeciwne znaki f(a)*f(b)<0\n",
    ">f'(x) oraz f''(x) istnieją, są ciągłe i mają stały znak w [a;b]\n",
    "'''"
   ]
  },
  {
   "cell_type": "markdown",
   "metadata": {},
   "source": [
    "***Zadanie 3)***"
   ]
  },
  {
   "cell_type": "code",
   "execution_count": 7,
   "metadata": {},
   "outputs": [
    {
     "name": "stdout",
     "output_type": "stream",
     "text": [
      "['miejsca zerowe bisekcją:', 4.76837158203125e-07, 0.9165630340576172] \n",
      " ['miejsce zerowe siecznych', 5.379604447275469e-16, 0.9165625831055494] \n",
      " ['miejsce zerowe stycznych', 1.4004525629535264e-17, 0.9165625831056982]\n"
     ]
    }
   ],
   "source": [
    "def myFun(x)->float:\n",
    "    return (math.e**((-2)*x))+(x**2)-1\n",
    "\n",
    "def myFunPrime(x)->float:\n",
    "    return (2*x - 2*math.e**((-2)*x))\n",
    "    \n",
    "\n",
    "\n",
    "def myFunBis(x)->float:\n",
    "    return (4*math.e**(-2*x)+2)\n",
    "\n",
    "\n",
    "def bisekcja(a: float, b: float, Ex: float)->float:\n",
    "    while math.fabs(a - b) > Ex:\n",
    "        x1  = (a+b)/2\n",
    "        \n",
    "        if math.fabs(myFun(x1)) <= Ex:\n",
    "            return x1\n",
    "        elif myFun(x1)*myFun(a) < 0:\n",
    "            b = x1\n",
    "        else:\n",
    "            a = x1\n",
    "    return ((a+b)/2)\n",
    "\n",
    "\n",
    "def siecznych(x0, x1, n, Ex):\n",
    "    for i in range(n):\n",
    "        if math.fabs(myFun(x1) - myFun(x0)) <= Ex:\n",
    "            return x1\n",
    "        x_temp = x1 - (myFun(x1)*(x1-x0)*1.0)/(myFun(x1) - myFun(x0))\n",
    "        x0 = x1\n",
    "        x1 = x_temp\n",
    "    return None\n",
    "\n",
    "\n",
    "def stycznychNewtona(x0, E0, Ex):\n",
    "    for i in range(64):\n",
    "        y = myFun(x0)\n",
    "        yp = myFunPrime(x0)\n",
    "        if abs(yp) < Ex:\n",
    "            return None\n",
    "        x1 = x0 - y/yp\n",
    "        if abs(x0 - x1) <= E0:\n",
    "            return x1\n",
    "        x0 = x1\n",
    "        stycznychNewtona(x0, E0, Ex)\n",
    "    return None\n",
    "        \n",
    "\n",
    "\n",
    "bis = ['miejsca zerowe bisekcją:', bisekcja(-1, 0.5, 1.0e-6), bisekcja(0.5, 1.5, 1.0e-6)]\n",
    "sie = ['miejsce zerowe siecznych', siecznych(-0.5, 0.4, 200, 1.0e-6), siecznych(0.5, 1.5, 200, 1.0e-6)]\n",
    "sty = ['miejsce zerowe stycznych', stycznychNewtona(-4, 1.0e-6, 1.0e-6), stycznychNewtona(1, 1.0e-6, 1.0e-6)]\n",
    "\n",
    "print(bis, '\\n', sie, '\\n', sty)"
   ]
  },
  {
   "cell_type": "markdown",
   "metadata": {},
   "source": [
    "***Zadanie 4)***"
   ]
  },
  {
   "cell_type": "code",
   "execution_count": 10,
   "metadata": {},
   "outputs": [
    {
     "name": "stdout",
     "output_type": "stream",
     "text": [
      "bisekcja: 20 , 19\n",
      "siecznych 10 , 7\n",
      "stycznych 12 , 3\n"
     ]
    }
   ],
   "source": [
    "def bisekcja(a: float, b: float, Ex: float)->float:\n",
    "    i = 0\n",
    "    while math.fabs(a - b) > Ex:\n",
    "        i+=1\n",
    "        x1  = (a+b)/2\n",
    "        \n",
    "        if math.fabs(myFun(x1)) <= Ex:\n",
    "            return i\n",
    "        elif myFun(x1)*myFun(a) < 0:\n",
    "            b = x1\n",
    "        else:\n",
    "            a = x1\n",
    "    return ((a+b)/2)\n",
    "\n",
    "\n",
    "def siecznych(x0, x1, n, Ex):\n",
    "    for i in range(n):\n",
    "        if math.fabs(myFun(x1) - myFun(x0)) <= Ex:\n",
    "            return i\n",
    "        x_temp = x1 - (myFun(x1)*(x1-x0)*1.0)/(myFun(x1) - myFun(x0))\n",
    "        x0 = x1\n",
    "        x1 = x_temp\n",
    "    return None\n",
    "\n",
    "\n",
    "def stycznychNewtona(x0, E0, Ex):\n",
    "    for i in range(64):\n",
    "        y = myFun(x0)\n",
    "        yp = myFunPrime(x0)\n",
    "        if abs(yp) < Ex:\n",
    "            return None\n",
    "        x1 = x0 - y/yp\n",
    "        if abs(x0 - x1) <= E0:\n",
    "            return i\n",
    "        x0 = x1\n",
    "        stycznychNewtona(x0, E0, Ex)\n",
    "    return None\n",
    "\n",
    "print('bisekcja:', bisekcja(-1, 0.5, 1.0e-6), ',', bisekcja(0.5, 1.5, 1.0e-6))\n",
    "print('siecznych', siecznych(-0.5, 0.4, 200, 1.0e-6), ',',  siecznych(0.5, 1.5, 200, 1.0e-6))\n",
    "print('stycznych', stycznychNewtona(-4, 1.0e-6, 1.0e-6), ',', stycznychNewtona(1, 1.0e-6, 1.0e-6))"
   ]
  },
  {
   "cell_type": "markdown",
   "metadata": {},
   "source": [
    "***Zadanie 5)***"
   ]
  },
  {
   "cell_type": "code",
   "execution_count": 11,
   "metadata": {},
   "outputs": [
    {
     "data": {
      "image/png": "[encoded data removed]",
      "text/plain": [
       "<Figure size 432x288 with 1 Axes>"
      ]
     },
     "metadata": {
      "needs_background": "light"
     },
     "output_type": "display_data"
    },
    {
     "data": {
      "image/png": "[encoded data removed]",
      "text/plain": [
       "<Figure size 432x288 with 1 Axes>"
      ]
     },
     "metadata": {
      "needs_background": "light"
     },
     "output_type": "display_data"
    }
   ],
   "source": [
    "import math\n",
    "import numpy as np\n",
    "import matplotlib.pyplot as plt\n",
    "\n",
    "def myFun(x)->float:\n",
    "    return (math.e**((-2)*x))+(x**2)-1\n",
    "\n",
    "\n",
    "def myFunPrime(x)->float:\n",
    "    return (2*x - 2*math.e**((-2)*x))\n",
    "\n",
    "\n",
    "def myFunBis(x)->float:\n",
    "    return (4*math.e**(-2*x)+2)\n",
    "    \n",
    "\n",
    "\n",
    "def bisekcja(a: float, b: float, Ex: float)->float:\n",
    "    plt.axhline(y = 0, color = 'm')\n",
    "    x1  = (a+b)/2\n",
    "    plt.plot([a, b, x1], [0, 0, 0], 'bs')\n",
    "    if math.fabs(myFun(x1)) <= Ex:\n",
    "        return x1\n",
    "    elif myFun(x1)*myFun(a) < 0:\n",
    "        b = x1\n",
    "    else:\n",
    "        a = x1\n",
    "    \n",
    "    x1  = (a+b)/2\n",
    "    plt.plot([a, b, x1], [0.2, 0.2, 0.2], 'g^')\n",
    "    if math.fabs(myFun(x1)) <= Ex:\n",
    "        return x1\n",
    "    elif myFun(x1)*myFun(a) < 0:\n",
    "        b = x1\n",
    "    else:\n",
    "        a = x1\n",
    "    x1  = (a+b)/2\n",
    "    plt.plot([a, b, x1], [0.4, 0.4, 0.4], 'ro')\n",
    "    \n",
    "    y  =[]\n",
    "    x = np.linspace(-1, 1.0, 300)\n",
    "    for i in x:\n",
    "        y.append(myFun(i))\n",
    "    plt.plot(x, y)\n",
    "    plt.show()\n",
    "\n",
    "\n",
    "def siecznych(x0, x1, n, Ex):\n",
    "    \n",
    "    y = []\n",
    "    x = np.linspace(-5, 5, 300)\n",
    "    for i in x:\n",
    "        y.append(myFun(i))\n",
    "    plt.plot(x, y)\n",
    "    plt.plot([x0, x1], [0, 0], 'bs')\n",
    "    plt.plot([x0, x1], [myFun(x0), myFun(x1)], 'b')\n",
    "    plt.axhline(y = 0, color = 'm')\n",
    "    plt.axis([-2, 1, -1, 8])\n",
    "    \n",
    "    if math.fabs(myFun(x1) - myFun(x0)) <= Ex:\n",
    "        return x1\n",
    "    x_temp = x1 - (myFun(x1)*(x1-x0)*1.0)/(myFun(x1) - myFun(x0))\n",
    "    plt.plot([x_temp], [0], 'bs')\n",
    "    x0 = x1\n",
    "    x1 = x_temp\n",
    "    plt.plot([x0, x1], [myFun(x0), myFun(x1)], 'r')\n",
    "    \n",
    "    if math.fabs(myFun(x1) - myFun(x0)) <= Ex:\n",
    "        return x1\n",
    "    x_temp = x1 - (myFun(x1)*(x1-x0)*1.0)/(myFun(x1) - myFun(x0))\n",
    "    x0 = x1\n",
    "    x1 = x_temp\n",
    "    plt.plot([x0, x1], [myFun(x0), myFun(x1)], 'g')\n",
    "    plt.plot([x_temp], [0], 'g^')\n",
    "\n",
    "\n",
    "def stycznychNewtona(x0, E0, Ex):\n",
    "    y = myFun(x0)\n",
    "    yp = myFunPrime(x0)\n",
    "    if abs(yp) < Ex:\n",
    "        return None\n",
    "    x1 = x0 - y/yp\n",
    "    if abs(x0 - x1) <= E0:\n",
    "        return x1\n",
    "    x0 = x1\n",
    "    stycznychNewtona(x0, E0, Ex)\n",
    "\n",
    "\n",
    "bisekcja(-1, 0.5, 1.0e-6)\n",
    "siecznych(-1, 0.4, 200, 1.0e-6)\n",
    "stycznychNewtona(-4, 1.0e-6, 1.0e-6)"
   ]
  },
  {
   "cell_type": "markdown",
   "metadata": {},
   "source": [
    "***Zadanie 6)***"
   ]
  },
  {
   "cell_type": "code",
   "execution_count": null,
   "metadata": {},
   "outputs": [],
   "source": []
  }
 ],
 "metadata": {
  "kernelspec": {
   "display_name": "Python 3",
   "language": "python",
   "name": "python3"
  },
  "language_info": {
   "codemirror_mode": {
    "name": "ipython",
    "version": 3
   },
   "file_extension": ".py",
   "mimetype": "text/x-python",
   "name": "python",
   "nbconvert_exporter": "python",
   "pygments_lexer": "ipython3",
   "version": "3.7.0"
  }
 },
 "nbformat": 4,
 "nbformat_minor": 2
}
