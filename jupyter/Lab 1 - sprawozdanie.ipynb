{
 "cells": [
  {
   "cell_type": "markdown",
   "metadata": {},
   "source": [
    "***Zadanie 1.***  "
   ]
  },
  {
   "cell_type": "code",
   "execution_count": 1,
   "metadata": {},
   "outputs": [],
   "source": [
    "import math\n",
    "\n",
    "math.sqrt(10)\n",
    "\n",
    "k=1240*math.sqrt(7)\n",
    "m=4467\n",
    "l=2j\n",
    "d=k+m\n",
    "c=d+l"
   ]
  },
  {
   "cell_type": "markdown",
   "metadata": {},
   "source": [
    "***Zadanie 2.***"
   ]
  },
  {
   "cell_type": "code",
   "execution_count": 2,
   "metadata": {},
   "outputs": [
    {
     "name": "stdout",
     "output_type": "stream",
     "text": [
      "7747.732\n",
      "7747.731625720093\n"
     ]
    }
   ],
   "source": [
    "print (round(d,3))\n",
    "print (round(d,20))"
   ]
  },
  {
   "cell_type": "markdown",
   "metadata": {},
   "source": [
    "***Zadanie 3.***"
   ]
  },
  {
   "cell_type": "code",
   "execution_count": 3,
   "metadata": {},
   "outputs": [],
   "source": [
    "r = 17\n",
    "h = 33\n",
    "s = 2*math.pi*r*h + 2*math.pi*r*r"
   ]
  },
  {
   "cell_type": "markdown",
   "metadata": {},
   "source": [
    "***Zadanie 5.***"
   ]
  },
  {
   "cell_type": "code",
   "execution_count": 4,
   "metadata": {},
   "outputs": [
    {
     "name": "stdout",
     "output_type": "stream",
     "text": [
      "0.6585996680785801\n"
     ]
    }
   ],
   "source": [
    "x = 1\n",
    "t = 2\n",
    "r = 3\n",
    "B = ((x+r)*x**(t*r))/(r*math.sin(2*x)+3.3456)\n",
    "\n",
    "print (B)"
   ]
  },
  {
   "cell_type": "markdown",
   "metadata": {},
   "source": [
    "***Zadanie 6.***"
   ]
  },
  {
   "cell_type": "code",
   "execution_count": 5,
   "metadata": {},
   "outputs": [],
   "source": [
    "import numpy as np\n",
    "a = math.sqrt(2)\n",
    "M = np.array([[a,1,-a],[0,1,1],[-a,a,1]])\n",
    "M_inv = np.linalg.inv(M)\n",
    "M_det = np.linalg.det(M)\n",
    "M_trans = np.transpose(M)"
   ]
  },
  {
   "cell_type": "markdown",
   "metadata": {},
   "source": [
    "***Zadanie 7.***"
   ]
  },
  {
   "cell_type": "code",
   "execution_count": 6,
   "metadata": {},
   "outputs": [
    {
     "name": "stdout",
     "output_type": "stream",
     "text": [
      "Element 1x1: 1.4142135623730951\n",
      "Element 1x1: 1.0\n",
      "Element 1x1: 1.4142135623730951\n",
      "[-1.41421356  1.          1.        ]\n",
      "[0. 1. 1.]\n"
     ]
    }
   ],
   "source": [
    "print(\"Element 1x1: {0}\".format(M[0,0]))\n",
    "print(\"Element 1x1: {0}\".format(M[2,2]))\n",
    "print(\"Element 1x1: {0}\".format(M[2,1]))\n",
    "\n",
    "w_1 = M[:,2]\n",
    "w_2 = M[1,:]\n",
    "\n",
    "print(w_1)\n",
    "print(w_2)"
   ]
  },
  {
   "cell_type": "markdown",
   "metadata": {},
   "source": [
    "***Zadanie 8.***"
   ]
  },
  {
   "cell_type": "code",
   "execution_count": 7,
   "metadata": {},
   "outputs": [],
   "source": [
    "w = [1,-7,3,43,-28,-60]\n",
    "\n",
    "mz = np.roots(w)"
   ]
  },
  {
   "cell_type": "markdown",
   "metadata": {},
   "source": [
    "***Zadanie 9.***"
   ]
  },
  {
   "cell_type": "code",
   "execution_count": 8,
   "metadata": {},
   "outputs": [
    {
     "name": "stdout",
     "output_type": "stream",
     "text": [
      "[ 1  6 11 16 21 26 31 36 41 46 51 56 61 66 71 76 81 86 91 96]\n",
      "[  0.  25.  50.  75. 100.]\n"
     ]
    }
   ],
   "source": [
    "ciag = np.arange(1,100,5)\n",
    "print(ciag)\n",
    "\n",
    "ciag2 = np.linspace(0, 100, num=5)\n",
    "print(ciag2)"
   ]
  },
  {
   "cell_type": "markdown",
   "metadata": {},
   "source": [
    "***Zadanie 10.***"
   ]
  },
  {
   "cell_type": "code",
   "execution_count": 9,
   "metadata": {},
   "outputs": [
    {
     "data": {
      "text/plain": [
       "<Figure size 640x480 with 1 Axes>"
      ]
     },
     "metadata": {},
     "output_type": "display_data"
    },
    {
     "data": {
      "text/plain": [
       "<Figure size 640x480 with 1 Axes>"
      ]
     },
     "metadata": {},
     "output_type": "display_data"
    },
    {
     "data": {
      "text/plain": [
       "<Figure size 640x480 with 1 Axes>"
      ]
     },
     "metadata": {},
     "output_type": "display_data"
    }
   ],
   "source": [
    "import matplotlib.pyplot as plt\n",
    "\n",
    "def funkcja(x):\n",
    "    return x**3 - 3*x\n",
    "\n",
    "x_1 = np.linspace(-1, 1)\n",
    "x_2 = np.linspace(-5, 5)\n",
    "x_3 = np.linspace(0, 5)\n",
    "y = [] # pusta lista\n",
    "\n",
    "for i in x_1:\n",
    "    y.append(funkcja(i)) # dodajemy wartosci funkcji\n",
    "plt.plot(x_1, y)\n",
    "plt.title(\"Wykres 1 f(x_1)\")\n",
    "plt.xlabel('x')\n",
    "plt.ylabel('y')\n",
    "plt.legend('Wykres nr.1')\n",
    "plt.show()\n",
    "\n",
    "\n",
    "y = [funkcja(i) for i in x_2]\n",
    "plt.plot(x_2, y)\n",
    "plt.title(\"Wykres 2 f(x_2)\")\n",
    "plt.xlabel('x')\n",
    "plt.ylabel('y')\n",
    "plt.legend('Piekny wykres')\n",
    "plt.show()\n",
    "\n",
    "\n",
    "y = funkcja(x_3)\n",
    "plt.plot(x_3, y)\n",
    "plt.title(\"Wykres 3 f(x_3)\")\n",
    "plt.xlabel('x')\n",
    "plt.ylabel('y')\n",
    "plt.legend('<sample text>')\n",
    "plt.show()"
   ]
  },
  {
   "cell_type": "markdown",
   "metadata": {},
   "source": [
    "***Zadanie 11.***"
   ]
  },
  {
   "cell_type": "code",
   "execution_count": 10,
   "metadata": {},
   "outputs": [
    {
     "name": "stdout",
     "output_type": "stream",
     "text": [
      "347.2222222222223 dżula\n",
      "0.08298810282557893 kcal\n"
     ]
    },
    {
     "data": {
      "image/png": "[encoded data removed]",
      "text/plain": [
       "<Figure size 432x288 with 1 Axes>"
      ]
     },
     "metadata": {
      "needs_background": "light"
     },
     "output_type": "display_data"
    },
    {
     "data": {
      "image/png": "[encoded data removed]",
      "text/plain": [
       "<Figure size 432x288 with 1 Axes>"
      ]
     },
     "metadata": {
      "needs_background": "light"
     },
     "output_type": "display_data"
    },
    {
     "data": {
      "text/plain": [
       "<Figure size 432x288 with 0 Axes>"
      ]
     },
     "metadata": {},
     "output_type": "display_data"
    }
   ],
   "source": [
    "def funkcja(m: float, v: float)->float:\n",
    "    return (m*v**2)/2\n",
    "\n",
    "print(funkcja(2.5, (60*1000/3600)), \"dżula\")\n",
    "print(funkcja(2.5, (60*1000/3600))/4.184/1000, \"kcal\")\n",
    "\n",
    "V = np.linspace(200*1000/3600, 0)\n",
    "M = 3\n",
    "\n",
    "y = [funkcja(M, i) for i in V]\n",
    "\n",
    "plt.plot(V, y)\n",
    "plt.title(\"Wykres liniowy hamowania\")\n",
    "plt.xlabel(\"V [m/s]\")\n",
    "plt.ylabel(\"f(V) [J]\")\n",
    "plt.legend(\"Q\")\n",
    "plt.show()\n",
    "\n",
    "\n",
    "plt.semilogy(V, y)\n",
    "plt.xlim(left = 0)\n",
    "plt.xlim(right = 200)\n",
    "plt.xlabel(\"V [m/s]\")\n",
    "plt.ylabel(\"f(V) [J]\")\n",
    "plt.title(\"Wykres logarytmiczny hamowania\")\n",
    "plt.legend(\"Q\")\n",
    "plt.figure()\n",
    "plt.show()"
   ]
  },
  {
   "cell_type": "code",
   "execution_count": null,
   "metadata": {},
   "outputs": [],
   "source": []
  },
  {
   "cell_type": "code",
   "execution_count": null,
   "metadata": {},
   "outputs": [],
   "source": []
  }
 ],
 "metadata": {
  "kernelspec": {
   "display_name": "Python 3",
   "language": "python",
   "name": "python3"
  },
  "language_info": {
   "codemirror_mode": {
    "name": "ipython",
    "version": 3
   },
   "file_extension": ".py",
   "mimetype": "text/x-python",
   "name": "python",
   "nbconvert_exporter": "python",
   "pygments_lexer": "ipython3",
   "version": "3.7.0"
  }
 },
 "nbformat": 4,
 "nbformat_minor": 2
}
