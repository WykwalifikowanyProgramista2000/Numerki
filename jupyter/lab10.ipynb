{
 "cells": [
  {
   "cell_type": "markdown",
   "metadata": {},
   "source": [
    "# <center>Laboratorium 9: Układy równań liniowych - metody iteracyjne</center>"
   ]
  },
  {
   "cell_type": "markdown",
   "metadata": {},
   "source": [
    "Instrukcja:  \n",
    "Na zajęciach należy wykonać poniższe zadania, a następnie sporządzić sprawozdanie zawierające odpowiedzi (w postaci kodu) z komentarzami w środowisku Jupyter Notebook i umieścić je na platformie e-learningowej."
   ]
  },
  {
   "cell_type": "markdown",
   "metadata": {},
   "source": [
    "***Temat główny:***   \n",
    "\n",
    "Rozwiązać układ równań: \n",
    "    \n",
    "### $ Ax = b$\n",
    "\n",
    "gdzie:\n",
    "\n",
    "$\\mathbf{A} =\\left[ \\begin{matrix}\n",
    "10 & 0 & 2 & 2\\\\\n",
    "-1 & -13 & 0 & 1\\\\\n",
    "0 & 0.5 & 15 & -1 \\\\\n",
    "17 & -3 & 2 & -4\n",
    "\\end{matrix}\\right]$\n",
    "\n",
    "$\\mathbf{b} =\\left[ \\begin{matrix}\n",
    "22\\\\\n",
    "50\\\\\n",
    "280\\\\\n",
    "164\n",
    "\\end{matrix}\\right]\n",
    "$    \n",
    "\n",
    "\n",
    "metodami:\n",
    "* [Jacobiego](https://en.wikipedia.org/wiki/Jacobi_method),\n",
    "* [Gaussa-Seidla](https://en.wikipedia.org/wiki/Gauss%E2%80%93Seidel_method)"
   ]
  },
  {
   "cell_type": "markdown",
   "metadata": {},
   "source": [
    "***Zadanie 1.***  \n",
    "Rozwiąż zadanie dowolną metodą dokładną"
   ]
  },
  {
   "cell_type": "markdown",
   "metadata": {},
   "source": [
    "***Zadanie 2.***    \n",
    "Zaimplementuj metodę Jakobiego i rozwiąż zadanie tą metodą z dokładnością do $10^{-6}$\n",
    "* Zaimplementuj również sprawdzenie warunku koniecznego dla zbieżności "
   ]
  },
  {
   "cell_type": "markdown",
   "metadata": {},
   "source": [
    "***Zadanie 3.***  \n",
    "Zaimplementuj metodę Gaussa-Seidla i rozwiąż zadanie tą metodą z dokładnością do $10^{-6}$\n",
    "* Zaimplementuj również sprawdzenie warunku koniecznego dla zbieżności "
   ]
  },
  {
   "cell_type": "markdown",
   "metadata": {},
   "source": [
    "***Zadanie 4.***  \n",
    "Porównaj zbieżność tych metod (ilość iteracji)"
   ]
  },
  {
   "cell_type": "markdown",
   "metadata": {},
   "source": [
    "***Zadanie 5.***  \n",
    "Porównaj czas wykonywania tych metod z metodą użytą do rozwiązania dokładnego"
   ]
  }
 ],
 "metadata": {
  "kernelspec": {
   "display_name": "Python 3",
   "language": "python",
   "name": "python3"
  },
  "language_info": {
   "codemirror_mode": {
    "name": "ipython",
    "version": 3
   },
   "file_extension": ".py",
   "mimetype": "text/x-python",
   "name": "python",
   "nbconvert_exporter": "python",
   "pygments_lexer": "ipython3",
   "version": "3.7.0"
  }
 },
 "nbformat": 4,
 "nbformat_minor": 2
}
